{
 "cells": [
  {
   "cell_type": "code",
   "execution_count": 1,
   "id": "cc75618c",
   "metadata": {},
   "outputs": [
    {
     "name": "stdout",
     "output_type": "stream",
     "text": [
      "Enter the value of x: 1\n",
      "Enter the value of y: 3\n",
      "Enter the value of z: 5\n",
      "Method Output: 35\n"
     ]
    }
   ],
   "source": [
    "#challenge 1\n",
    "class Point:\n",
    "    def __init__(self,x=int(input(\"Enter the value of x: \")),y=int(input(\"Enter the value of y: \")),z=int(input(\"Enter the value of z: \"))):\n",
    "        self.x = x\n",
    "        self.y = y\n",
    "        self.z = z\n",
    "\n",
    "    def sqSum(self):\n",
    "        return self.x**2+self.y**2+self.z**2\n",
    "\n",
    "point=Point()\n",
    "result=point.sqSum()\n",
    "print(\"Method Output:\",result)"
   ]
  },
  {
   "cell_type": "code",
   "execution_count": 3,
   "id": "1b2210c4",
   "metadata": {},
   "outputs": [
    {
     "name": "stdout",
     "output_type": "stream",
     "text": [
      "104\n",
      "84\n",
      "940\n",
      "9.4\n"
     ]
    }
   ],
   "source": [
    "#challenge 2\n",
    "class Calculator:\n",
    "\n",
    "    def __init__(self,num1,num2):\n",
    "        self.num1=num1\n",
    "        self.num2=num2\n",
    "\n",
    "    def add(self):\n",
    "         return self.num1 + self.num2\n",
    "    def subtract(self):\n",
    "        return self.num2 - self.num1\n",
    "    def multiply(self):\n",
    "        return self.num1 * self.num2\n",
    "    def divide(self):\n",
    "        return self.num2 / self.num1\n",
    "\n",
    "obj = Calculator(10, 94)\n",
    "print(obj.add())\n",
    "print(obj.subtract())\n",
    "print(obj.multiply())\n",
    "print(obj.divide())"
   ]
  },
  {
   "cell_type": "code",
   "execution_count": 4,
   "id": "ae9fdeda",
   "metadata": {},
   "outputs": [
    {
     "name": "stdout",
     "output_type": "stream",
     "text": [
      "Name: swethapriya\n",
      "Roll Number: 24\n"
     ]
    }
   ],
   "source": [
    "#challenge 3\n",
    "class Student:\n",
    "\n",
    "    def setName(self,name):\n",
    "        self.__name=name\n",
    "        \n",
    "    def getName(self):\n",
    "        return self.__name\n",
    "    \n",
    "    def setRollNumber(self,rollNumber):\n",
    "        self.__rollNumber=rollNumber\n",
    "        \n",
    "    def getRollNumber(self):\n",
    "        return self.__rollNumber\n",
    "stud=Student()\n",
    "\n",
    "stud.setName(\"swethapriya\")\n",
    "name=stud.getName()\n",
    "\n",
    "stud.setRollNumber(24)\n",
    "rollNumber=stud.getRollNumber()\n",
    "\n",
    "print(\"Name:\",name)\n",
    "print(\"Roll Number:\",rollNumber)"
   ]
  },
  {
   "cell_type": "code",
   "execution_count": 5,
   "id": "b52c893b",
   "metadata": {},
   "outputs": [
    {
     "name": "stdout",
     "output_type": "stream",
     "text": [
      "chintu\n",
      "50000\n"
     ]
    }
   ],
   "source": [
    "#challenge 4\n",
    "class Account:\n",
    "\n",
    "    def __init__(self,title=None,balance=0):\n",
    "        self.title=title\n",
    "        self.balance=balance\n",
    "        \n",
    "    \n",
    "class SavingsAccount():\n",
    "\n",
    "    def __init__(self,title=None,balance=0,interestRate=0):\n",
    "        super().__init__(title,balance)\n",
    "        self.interestRate=interestRate\n",
    "acnt=Account(\"chintu\",50000)\n",
    "print(acnt.title)\n",
    "print(acnt.balance)"
   ]
  },
  {
   "cell_type": "code",
   "execution_count": 6,
   "id": "be01bac4",
   "metadata": {},
   "outputs": [
    {
     "name": "stdout",
     "output_type": "stream",
     "text": [
      "1500\n"
     ]
    }
   ],
   "source": [
    "#challenge 5\n",
    "class Account:\n",
    "\n",
    "    def __init__(self,title=None,balance=0):\n",
    "        self.title=title\n",
    "        self.balance=balance\n",
    "        \n",
    "    def withdrawal(self, amount):\n",
    "        self.balance-=amount\n",
    "        \n",
    "    def deposit(self, amount):\n",
    "        self.balance+=amount\n",
    "    \n",
    "    def getBalance(self):\n",
    "        return self.balance\n",
    "    \n",
    "    \n",
    "class SavingsAccount(Account):\n",
    "\n",
    "    def __init__(self,title=None,balance=0,interestRate=0):\n",
    "        super().__init__(title,balance)\n",
    "        self.interestRate=interestRate\n",
    "        \n",
    "    def interestAmount(self):\n",
    "        return (self.interestRate*self.balance)/100\n",
    "acnt=SavingsAccount(\"Ashish\",2000,5)\n",
    "acnt.withdrawal(500)\n",
    "print(acnt.getBalance())"
   ]
  },
  {
   "cell_type": "code",
   "execution_count": 7,
   "id": "85a3b1f9",
   "metadata": {},
   "outputs": [
    {
     "name": "stdout",
     "output_type": "stream",
     "text": [
      "2500\n"
     ]
    }
   ],
   "source": [
    "acnt=SavingsAccount(\"Ashish\",2000,5)\n",
    "acnt.deposit(500)\n",
    "print(acnt.getBalance())"
   ]
  },
  {
   "cell_type": "code",
   "execution_count": 8,
   "id": "3628d9cd",
   "metadata": {},
   "outputs": [
    {
     "name": "stdout",
     "output_type": "stream",
     "text": [
      "100.0\n"
     ]
    }
   ],
   "source": [
    "acnt=SavingsAccount(\"Ashish\",2000,5)\n",
    "print(acnt.interestAmount())"
   ]
  },
  {
   "cell_type": "code",
   "execution_count": null,
   "id": "6e058b9a",
   "metadata": {},
   "outputs": [],
   "source": []
  }
 ],
 "metadata": {
  "kernelspec": {
   "display_name": "Python 3 (ipykernel)",
   "language": "python",
   "name": "python3"
  },
  "language_info": {
   "codemirror_mode": {
    "name": "ipython",
    "version": 3
   },
   "file_extension": ".py",
   "mimetype": "text/x-python",
   "name": "python",
   "nbconvert_exporter": "python",
   "pygments_lexer": "ipython3",
   "version": "3.10.9"
  }
 },
 "nbformat": 4,
 "nbformat_minor": 5
}
